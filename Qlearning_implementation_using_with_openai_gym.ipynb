{
  "nbformat": 4,
  "nbformat_minor": 0,
  "metadata": {
    "colab": {
      "name": "Untitled42.ipynb",
      "provenance": [],
      "authorship_tag": "ABX9TyPheBWOsH/2d5Z9qF6Fk1Nb",
      "include_colab_link": true
    },
    "kernelspec": {
      "name": "python3",
      "display_name": "Python 3"
    },
    "language_info": {
      "name": "python"
    }
  },
  "cells": [
    {
      "cell_type": "markdown",
      "metadata": {
        "id": "view-in-github",
        "colab_type": "text"
      },
      "source": [
        "<a href=\"https://colab.research.google.com/github/moizca/Research_Paper_Implementation/blob/main/Qlearning_implementation_using_with_openai_gym.ipynb\" target=\"_parent\"><img src=\"https://colab.research.google.com/assets/colab-badge.svg\" alt=\"Open In Colab\"/></a>"
      ]
    },
    {
      "cell_type": "code",
      "metadata": {
        "colab": {
          "base_uri": "https://localhost:8080/"
        },
        "id": "wEXyxKqw5_2p",
        "outputId": "628a0e97-ff01-48e4-b4ff-633146e4b553"
      },
      "source": [
        "pip install gym"
      ],
      "execution_count": 1,
      "outputs": [
        {
          "output_type": "stream",
          "name": "stdout",
          "text": [
            "Requirement already satisfied: gym in /usr/local/lib/python3.7/dist-packages (0.17.3)\n",
            "Requirement already satisfied: scipy in /usr/local/lib/python3.7/dist-packages (from gym) (1.4.1)\n",
            "Requirement already satisfied: numpy>=1.10.4 in /usr/local/lib/python3.7/dist-packages (from gym) (1.19.5)\n",
            "Requirement already satisfied: pyglet<=1.5.0,>=1.4.0 in /usr/local/lib/python3.7/dist-packages (from gym) (1.5.0)\n",
            "Requirement already satisfied: cloudpickle<1.7.0,>=1.2.0 in /usr/local/lib/python3.7/dist-packages (from gym) (1.3.0)\n",
            "Requirement already satisfied: future in /usr/local/lib/python3.7/dist-packages (from pyglet<=1.5.0,>=1.4.0->gym) (0.16.0)\n"
          ]
        }
      ]
    },
    {
      "cell_type": "code",
      "metadata": {
        "colab": {
          "base_uri": "https://localhost:8080/"
        },
        "id": "xOrHay5V6Ji4",
        "outputId": "86def374-cfb9-491a-a7e4-caddcc341994"
      },
      "source": [
        "pip install tensorflow==1.15.0"
      ],
      "execution_count": 2,
      "outputs": [
        {
          "output_type": "stream",
          "name": "stdout",
          "text": [
            "Collecting tensorflow==1.15.0\n",
            "  Downloading tensorflow-1.15.0-cp37-cp37m-manylinux2010_x86_64.whl (412.3 MB)\n",
            "\u001b[K     |████████████████████████████████| 412.3 MB 16 kB/s \n",
            "\u001b[?25hRequirement already satisfied: astor>=0.6.0 in /usr/local/lib/python3.7/dist-packages (from tensorflow==1.15.0) (0.8.1)\n",
            "Requirement already satisfied: google-pasta>=0.1.6 in /usr/local/lib/python3.7/dist-packages (from tensorflow==1.15.0) (0.2.0)\n",
            "Requirement already satisfied: numpy<2.0,>=1.16.0 in /usr/local/lib/python3.7/dist-packages (from tensorflow==1.15.0) (1.19.5)\n",
            "Collecting keras-applications>=1.0.8\n",
            "  Downloading Keras_Applications-1.0.8-py3-none-any.whl (50 kB)\n",
            "\u001b[K     |████████████████████████████████| 50 kB 5.7 MB/s \n",
            "\u001b[?25hRequirement already satisfied: absl-py>=0.7.0 in /usr/local/lib/python3.7/dist-packages (from tensorflow==1.15.0) (0.12.0)\n",
            "Requirement already satisfied: termcolor>=1.1.0 in /usr/local/lib/python3.7/dist-packages (from tensorflow==1.15.0) (1.1.0)\n",
            "Requirement already satisfied: wheel>=0.26 in /usr/local/lib/python3.7/dist-packages (from tensorflow==1.15.0) (0.37.0)\n",
            "Collecting tensorflow-estimator==1.15.1\n",
            "  Downloading tensorflow_estimator-1.15.1-py2.py3-none-any.whl (503 kB)\n",
            "\u001b[K     |████████████████████████████████| 503 kB 76.4 MB/s \n",
            "\u001b[?25hRequirement already satisfied: grpcio>=1.8.6 in /usr/local/lib/python3.7/dist-packages (from tensorflow==1.15.0) (1.41.1)\n",
            "Collecting tensorboard<1.16.0,>=1.15.0\n",
            "  Downloading tensorboard-1.15.0-py3-none-any.whl (3.8 MB)\n",
            "\u001b[K     |████████████████████████████████| 3.8 MB 45.8 MB/s \n",
            "\u001b[?25hRequirement already satisfied: six>=1.10.0 in /usr/local/lib/python3.7/dist-packages (from tensorflow==1.15.0) (1.15.0)\n",
            "Requirement already satisfied: protobuf>=3.6.1 in /usr/local/lib/python3.7/dist-packages (from tensorflow==1.15.0) (3.17.3)\n",
            "Requirement already satisfied: opt-einsum>=2.3.2 in /usr/local/lib/python3.7/dist-packages (from tensorflow==1.15.0) (3.3.0)\n",
            "Requirement already satisfied: wrapt>=1.11.1 in /usr/local/lib/python3.7/dist-packages (from tensorflow==1.15.0) (1.13.3)\n",
            "Requirement already satisfied: keras-preprocessing>=1.0.5 in /usr/local/lib/python3.7/dist-packages (from tensorflow==1.15.0) (1.1.2)\n",
            "Collecting gast==0.2.2\n",
            "  Downloading gast-0.2.2.tar.gz (10 kB)\n",
            "Requirement already satisfied: h5py in /usr/local/lib/python3.7/dist-packages (from keras-applications>=1.0.8->tensorflow==1.15.0) (3.1.0)\n",
            "Requirement already satisfied: werkzeug>=0.11.15 in /usr/local/lib/python3.7/dist-packages (from tensorboard<1.16.0,>=1.15.0->tensorflow==1.15.0) (1.0.1)\n",
            "Requirement already satisfied: markdown>=2.6.8 in /usr/local/lib/python3.7/dist-packages (from tensorboard<1.16.0,>=1.15.0->tensorflow==1.15.0) (3.3.4)\n",
            "Requirement already satisfied: setuptools>=41.0.0 in /usr/local/lib/python3.7/dist-packages (from tensorboard<1.16.0,>=1.15.0->tensorflow==1.15.0) (57.4.0)\n",
            "Requirement already satisfied: importlib-metadata in /usr/local/lib/python3.7/dist-packages (from markdown>=2.6.8->tensorboard<1.16.0,>=1.15.0->tensorflow==1.15.0) (4.8.2)\n",
            "Requirement already satisfied: cached-property in /usr/local/lib/python3.7/dist-packages (from h5py->keras-applications>=1.0.8->tensorflow==1.15.0) (1.5.2)\n",
            "Requirement already satisfied: zipp>=0.5 in /usr/local/lib/python3.7/dist-packages (from importlib-metadata->markdown>=2.6.8->tensorboard<1.16.0,>=1.15.0->tensorflow==1.15.0) (3.6.0)\n",
            "Requirement already satisfied: typing-extensions>=3.6.4 in /usr/local/lib/python3.7/dist-packages (from importlib-metadata->markdown>=2.6.8->tensorboard<1.16.0,>=1.15.0->tensorflow==1.15.0) (3.10.0.2)\n",
            "Building wheels for collected packages: gast\n",
            "  Building wheel for gast (setup.py) ... \u001b[?25l\u001b[?25hdone\n",
            "  Created wheel for gast: filename=gast-0.2.2-py3-none-any.whl size=7554 sha256=7b92f7e5597d400dad7e0a9f56df324cfcb7235ce97a9d23bcece3a67ad67cce\n",
            "  Stored in directory: /root/.cache/pip/wheels/21/7f/02/420f32a803f7d0967b48dd823da3f558c5166991bfd204eef3\n",
            "Successfully built gast\n",
            "Installing collected packages: tensorflow-estimator, tensorboard, keras-applications, gast, tensorflow\n",
            "  Attempting uninstall: tensorflow-estimator\n",
            "    Found existing installation: tensorflow-estimator 2.7.0\n",
            "    Uninstalling tensorflow-estimator-2.7.0:\n",
            "      Successfully uninstalled tensorflow-estimator-2.7.0\n",
            "  Attempting uninstall: tensorboard\n",
            "    Found existing installation: tensorboard 2.7.0\n",
            "    Uninstalling tensorboard-2.7.0:\n",
            "      Successfully uninstalled tensorboard-2.7.0\n",
            "  Attempting uninstall: gast\n",
            "    Found existing installation: gast 0.4.0\n",
            "    Uninstalling gast-0.4.0:\n",
            "      Successfully uninstalled gast-0.4.0\n",
            "  Attempting uninstall: tensorflow\n",
            "    Found existing installation: tensorflow 2.7.0\n",
            "    Uninstalling tensorflow-2.7.0:\n",
            "      Successfully uninstalled tensorflow-2.7.0\n",
            "\u001b[31mERROR: pip's dependency resolver does not currently take into account all the packages that are installed. This behaviour is the source of the following dependency conflicts.\n",
            "tensorflow-probability 0.14.1 requires gast>=0.3.2, but you have gast 0.2.2 which is incompatible.\n",
            "kapre 0.3.5 requires tensorflow>=2.0.0, but you have tensorflow 1.15.0 which is incompatible.\u001b[0m\n",
            "Successfully installed gast-0.2.2 keras-applications-1.0.8 tensorboard-1.15.0 tensorflow-1.15.0 tensorflow-estimator-1.15.1\n"
          ]
        }
      ]
    },
    {
      "cell_type": "code",
      "metadata": {
        "colab": {
          "base_uri": "https://localhost:8080/"
        },
        "id": "6WZjMPYt6lms",
        "outputId": "d9b39c3d-5407-4901-ab49-07b0ec699bf1"
      },
      "source": [
        "!sudo apt-get update\n",
        "!sudo apt-get install cmake libopenmpi-dev python3-dev zlib1g-dev"
      ],
      "execution_count": 3,
      "outputs": [
        {
          "output_type": "stream",
          "name": "stdout",
          "text": [
            "\r0% [Working]\r            \rGet:1 http://ppa.launchpad.net/c2d4u.team/c2d4u4.0+/ubuntu bionic InRelease [15.9 kB]\n",
            "\r0% [Connecting to archive.ubuntu.com] [Connecting to security.ubuntu.com (91.18\r0% [Connecting to archive.ubuntu.com] [Connecting to security.ubuntu.com (91.18\r                                                                               \rGet:2 https://cloud.r-project.org/bin/linux/ubuntu bionic-cran40/ InRelease [3,626 B]\n",
            "\r0% [1 InRelease gpgv 15.9 kB] [Connecting to archive.ubuntu.com] [Connecting to\r                                                                               \rHit:3 http://ppa.launchpad.net/cran/libgit2/ubuntu bionic InRelease\n",
            "Hit:4 http://ppa.launchpad.net/deadsnakes/ppa/ubuntu bionic InRelease\n",
            "Hit:5 http://archive.ubuntu.com/ubuntu bionic InRelease\n",
            "Hit:6 http://ppa.launchpad.net/graphics-drivers/ppa/ubuntu bionic InRelease\n",
            "Get:7 http://archive.ubuntu.com/ubuntu bionic-updates InRelease [88.7 kB]\n",
            "Get:8 http://archive.ubuntu.com/ubuntu bionic-backports InRelease [74.6 kB]\n",
            "Get:9 http://security.ubuntu.com/ubuntu bionic-security InRelease [88.7 kB]\n",
            "Ign:10 https://developer.download.nvidia.com/compute/cuda/repos/ubuntu1804/x86_64  InRelease\n",
            "Get:11 http://ppa.launchpad.net/c2d4u.team/c2d4u4.0+/ubuntu bionic/main Sources [1,812 kB]\n",
            "Ign:12 https://developer.download.nvidia.com/compute/machine-learning/repos/ubuntu1804/x86_64  InRelease\n",
            "Get:13 https://cloud.r-project.org/bin/linux/ubuntu bionic-cran40/ Packages [73.0 kB]\n",
            "Get:14 https://developer.download.nvidia.com/compute/cuda/repos/ubuntu1804/x86_64  Release [696 B]\n",
            "Hit:15 https://developer.download.nvidia.com/compute/machine-learning/repos/ubuntu1804/x86_64  Release\n",
            "Get:16 http://ppa.launchpad.net/c2d4u.team/c2d4u4.0+/ubuntu bionic/main amd64 Packages [928 kB]\n",
            "Get:17 https://developer.download.nvidia.com/compute/cuda/repos/ubuntu1804/x86_64  Release.gpg [836 B]\n",
            "Get:18 http://archive.ubuntu.com/ubuntu bionic-updates/multiverse amd64 Packages [34.4 kB]\n",
            "Get:19 http://archive.ubuntu.com/ubuntu bionic-updates/restricted amd64 Packages [699 kB]\n",
            "Get:20 http://archive.ubuntu.com/ubuntu bionic-updates/universe amd64 Packages [2,219 kB]\n",
            "Get:21 http://archive.ubuntu.com/ubuntu bionic-updates/main amd64 Packages [2,867 kB]\n",
            "Get:23 https://developer.download.nvidia.com/compute/cuda/repos/ubuntu1804/x86_64  Packages [808 kB]\n",
            "Get:24 http://security.ubuntu.com/ubuntu bionic-security/restricted amd64 Packages [666 kB]\n",
            "Get:25 http://security.ubuntu.com/ubuntu bionic-security/universe amd64 Packages [1,439 kB]\n",
            "Get:26 http://security.ubuntu.com/ubuntu bionic-security/multiverse amd64 Packages [26.8 kB]\n",
            "Get:27 http://security.ubuntu.com/ubuntu bionic-security/main amd64 Packages [2,430 kB]\n",
            "Fetched 14.3 MB in 3s (5,533 kB/s)\n",
            "Reading package lists... Done\n",
            "Reading package lists... Done\n",
            "Building dependency tree       \n",
            "Reading state information... Done\n",
            "zlib1g-dev is already the newest version (1:1.2.11.dfsg-0ubuntu2).\n",
            "zlib1g-dev set to manually installed.\n",
            "libopenmpi-dev is already the newest version (2.1.1-8).\n",
            "cmake is already the newest version (3.10.2-1ubuntu2.18.04.2).\n",
            "python3-dev is already the newest version (3.6.7-1~18.04).\n",
            "python3-dev set to manually installed.\n",
            "0 upgraded, 0 newly installed, 0 to remove and 63 not upgraded.\n"
          ]
        }
      ]
    },
    {
      "cell_type": "code",
      "metadata": {
        "colab": {
          "base_uri": "https://localhost:8080/"
        },
        "id": "N4_NBXbz6rwF",
        "outputId": "2d603438-ac3f-45ab-8e6d-74003a257a49"
      },
      "source": [
        "pip install stable-baselines[mpi]"
      ],
      "execution_count": 4,
      "outputs": [
        {
          "output_type": "stream",
          "name": "stdout",
          "text": [
            "Collecting stable-baselines[mpi]\n",
            "  Downloading stable_baselines-2.10.2-py3-none-any.whl (240 kB)\n",
            "\u001b[?25l\r\u001b[K     |█▍                              | 10 kB 23.8 MB/s eta 0:00:01\r\u001b[K     |██▊                             | 20 kB 30.1 MB/s eta 0:00:01\r\u001b[K     |████                            | 30 kB 32.6 MB/s eta 0:00:01\r\u001b[K     |█████▍                          | 40 kB 35.4 MB/s eta 0:00:01\r\u001b[K     |██████▉                         | 51 kB 22.7 MB/s eta 0:00:01\r\u001b[K     |████████▏                       | 61 kB 21.3 MB/s eta 0:00:01\r\u001b[K     |█████████▌                      | 71 kB 13.4 MB/s eta 0:00:01\r\u001b[K     |██████████▉                     | 81 kB 14.6 MB/s eta 0:00:01\r\u001b[K     |████████████▎                   | 92 kB 15.6 MB/s eta 0:00:01\r\u001b[K     |█████████████▋                  | 102 kB 16.6 MB/s eta 0:00:01\r\u001b[K     |███████████████                 | 112 kB 16.6 MB/s eta 0:00:01\r\u001b[K     |████████████████▎               | 122 kB 16.6 MB/s eta 0:00:01\r\u001b[K     |█████████████████▊              | 133 kB 16.6 MB/s eta 0:00:01\r\u001b[K     |███████████████████             | 143 kB 16.6 MB/s eta 0:00:01\r\u001b[K     |████████████████████▍           | 153 kB 16.6 MB/s eta 0:00:01\r\u001b[K     |█████████████████████▊          | 163 kB 16.6 MB/s eta 0:00:01\r\u001b[K     |███████████████████████▏        | 174 kB 16.6 MB/s eta 0:00:01\r\u001b[K     |████████████████████████▌       | 184 kB 16.6 MB/s eta 0:00:01\r\u001b[K     |█████████████████████████▉      | 194 kB 16.6 MB/s eta 0:00:01\r\u001b[K     |███████████████████████████▏    | 204 kB 16.6 MB/s eta 0:00:01\r\u001b[K     |████████████████████████████▋   | 215 kB 16.6 MB/s eta 0:00:01\r\u001b[K     |██████████████████████████████  | 225 kB 16.6 MB/s eta 0:00:01\r\u001b[K     |███████████████████████████████▎| 235 kB 16.6 MB/s eta 0:00:01\r\u001b[K     |████████████████████████████████| 240 kB 16.6 MB/s \n",
            "\u001b[?25hRequirement already satisfied: joblib in /usr/local/lib/python3.7/dist-packages (from stable-baselines[mpi]) (1.1.0)\n",
            "Requirement already satisfied: pandas in /usr/local/lib/python3.7/dist-packages (from stable-baselines[mpi]) (1.1.5)\n",
            "Requirement already satisfied: gym[atari,classic_control]>=0.11 in /usr/local/lib/python3.7/dist-packages (from stable-baselines[mpi]) (0.17.3)\n",
            "Requirement already satisfied: matplotlib in /usr/local/lib/python3.7/dist-packages (from stable-baselines[mpi]) (3.2.2)\n",
            "Requirement already satisfied: scipy in /usr/local/lib/python3.7/dist-packages (from stable-baselines[mpi]) (1.4.1)\n",
            "Requirement already satisfied: numpy in /usr/local/lib/python3.7/dist-packages (from stable-baselines[mpi]) (1.19.5)\n",
            "Requirement already satisfied: opencv-python in /usr/local/lib/python3.7/dist-packages (from stable-baselines[mpi]) (4.1.2.30)\n",
            "Requirement already satisfied: cloudpickle>=0.5.5 in /usr/local/lib/python3.7/dist-packages (from stable-baselines[mpi]) (1.3.0)\n",
            "Collecting mpi4py\n",
            "  Downloading mpi4py-3.1.2.tar.gz (2.5 MB)\n",
            "\u001b[K     |████████████████████████████████| 2.5 MB 45.4 MB/s \n",
            "\u001b[?25h  Installing build dependencies ... \u001b[?25l\u001b[?25hdone\n",
            "  Getting requirements to build wheel ... \u001b[?25l\u001b[?25hdone\n",
            "    Preparing wheel metadata ... \u001b[?25l\u001b[?25hdone\n",
            "Requirement already satisfied: pyglet<=1.5.0,>=1.4.0 in /usr/local/lib/python3.7/dist-packages (from gym[atari,classic_control]>=0.11->stable-baselines[mpi]) (1.5.0)\n",
            "Requirement already satisfied: atari-py~=0.2.0 in /usr/local/lib/python3.7/dist-packages (from gym[atari,classic_control]>=0.11->stable-baselines[mpi]) (0.2.9)\n",
            "Requirement already satisfied: Pillow in /usr/local/lib/python3.7/dist-packages (from gym[atari,classic_control]>=0.11->stable-baselines[mpi]) (7.1.2)\n",
            "Requirement already satisfied: six in /usr/local/lib/python3.7/dist-packages (from atari-py~=0.2.0->gym[atari,classic_control]>=0.11->stable-baselines[mpi]) (1.15.0)\n",
            "Requirement already satisfied: future in /usr/local/lib/python3.7/dist-packages (from pyglet<=1.5.0,>=1.4.0->gym[atari,classic_control]>=0.11->stable-baselines[mpi]) (0.16.0)\n",
            "Requirement already satisfied: cycler>=0.10 in /usr/local/lib/python3.7/dist-packages (from matplotlib->stable-baselines[mpi]) (0.11.0)\n",
            "Requirement already satisfied: kiwisolver>=1.0.1 in /usr/local/lib/python3.7/dist-packages (from matplotlib->stable-baselines[mpi]) (1.3.2)\n",
            "Requirement already satisfied: pyparsing!=2.0.4,!=2.1.2,!=2.1.6,>=2.0.1 in /usr/local/lib/python3.7/dist-packages (from matplotlib->stable-baselines[mpi]) (2.4.7)\n",
            "Requirement already satisfied: python-dateutil>=2.1 in /usr/local/lib/python3.7/dist-packages (from matplotlib->stable-baselines[mpi]) (2.8.2)\n",
            "Requirement already satisfied: pytz>=2017.2 in /usr/local/lib/python3.7/dist-packages (from pandas->stable-baselines[mpi]) (2018.9)\n",
            "Building wheels for collected packages: mpi4py\n",
            "  Building wheel for mpi4py (PEP 517) ... \u001b[?25l\u001b[?25hdone\n",
            "  Created wheel for mpi4py: filename=mpi4py-3.1.2-cp37-cp37m-linux_x86_64.whl size=2183198 sha256=73a6caa0b947fe08c0f614e43fd1cd198cba29242ebd8067538e9e27bf6046ec\n",
            "  Stored in directory: /root/.cache/pip/wheels/62/d6/0a/91ea5f998589bc72ca3fcf425c0e364baf8536753e1cd26ea4\n",
            "Successfully built mpi4py\n",
            "Installing collected packages: stable-baselines, mpi4py\n",
            "Successfully installed mpi4py-3.1.2 stable-baselines-2.10.2\n"
          ]
        }
      ]
    },
    {
      "cell_type": "code",
      "metadata": {
        "id": "EOtGJCcj6vHp"
      },
      "source": [
        "import numpy as np"
      ],
      "execution_count": 1,
      "outputs": []
    },
    {
      "cell_type": "code",
      "metadata": {
        "id": "BL93t9Q161ok"
      },
      "source": [
        "num_episodes = 2000\n",
        "max_steps_per_episode = 6\n",
        "\n",
        "learning_rate = np.float64(0.8)\n",
        "discount_rate = np.float64(0.6)\n",
        "\n",
        "demand1=[[4,4,4],[3,3,3],[2,2,2],[1,1,1],[6,6,6],[7,7,7]]\n",
        "demand=np.array(demand1)\n",
        "ddd=demand1[0][0]+demand1[1][0]+demand1[2][0]+demand1[3][0]+demand1[4][0]+demand1[5][0]+1\n",
        "ddd_list=list(range(ddd))\n",
        "from itertools import product\n",
        "perm = list(product(ddd_list, repeat = 3))\n",
        "ddd_list_actions=[0,1]\n",
        "perm_a=list(product(ddd_list_actions, repeat = 3))\n",
        "perm_actions=[]\n",
        "for ptp in perm_a:\n",
        "  if sum(ptp)==1 or sum(ptp)==0:\n",
        "    perm_actions.append(ptp)\n",
        "perm.sort()\n",
        "perm_actions.sort()"
      ],
      "execution_count": 2,
      "outputs": []
    },
    {
      "cell_type": "code",
      "metadata": {
        "id": "o6zkkSPs7KbL"
      },
      "source": [
        "import basic_env\n",
        "env = basic_env.BasicEnv()"
      ],
      "execution_count": 3,
      "outputs": []
    },
    {
      "cell_type": "code",
      "metadata": {
        "colab": {
          "base_uri": "https://localhost:8080/"
        },
        "id": "xST1NkNt7Mhc",
        "outputId": "251e7ad1-d726-4af4-9e60-0eb9191ae18a"
      },
      "source": [
        "from stable_baselines.common.env_checker import check_env\n",
        "check_env(env)"
      ],
      "execution_count": 4,
      "outputs": [
        {
          "output_type": "stream",
          "name": "stdout",
          "text": [
            "WARNING:tensorflow:\n",
            "The TensorFlow contrib module will not be included in TensorFlow 2.0.\n",
            "For more information, please see:\n",
            "  * https://github.com/tensorflow/community/blob/master/rfcs/20180907-contrib-sunset.md\n",
            "  * https://github.com/tensorflow/addons\n",
            "  * https://github.com/tensorflow/io (for I/O related ops)\n",
            "If you depend on functionality not listed there, please file an issue.\n",
            "\n"
          ]
        },
        {
          "output_type": "stream",
          "name": "stderr",
          "text": [
            "/usr/local/lib/python3.7/dist-packages/stable_baselines/__init__.py:33: UserWarning: stable-baselines is in maintenance mode, please use [Stable-Baselines3 (SB3)](https://github.com/DLR-RM/stable-baselines3) for an up-to-date version. You can find a [migration guide](https://stable-baselines3.readthedocs.io/en/master/guide/migration.html) in SB3 documentation.\n",
            "  \"stable-baselines is in maintenance mode, please use [Stable-Baselines3 (SB3)](https://github.com/DLR-RM/stable-baselines3) for an up-to-date version. You can find a [migration guide](https://stable-baselines3.readthedocs.io/en/master/guide/migration.html) in SB3 documentation.\"\n"
          ]
        }
      ]
    },
    {
      "cell_type": "code",
      "metadata": {
        "colab": {
          "base_uri": "https://localhost:8080/"
        },
        "id": "c_FQhctc_4T6",
        "outputId": "70020d25-c0a2-46b6-9294-c5af144897c2"
      },
      "source": [
        "action_space_size = env.action_space.n\n",
        "q_table = np.zeros((len(perm), action_space_size))\n",
        "print(q_table)"
      ],
      "execution_count": 5,
      "outputs": [
        {
          "output_type": "stream",
          "name": "stdout",
          "text": [
            "[[0. 0. 0. 0.]\n",
            " [0. 0. 0. 0.]\n",
            " [0. 0. 0. 0.]\n",
            " ...\n",
            " [0. 0. 0. 0.]\n",
            " [0. 0. 0. 0.]\n",
            " [0. 0. 0. 0.]]\n"
          ]
        }
      ]
    },
    {
      "cell_type": "code",
      "metadata": {
        "colab": {
          "base_uri": "https://localhost:8080/"
        },
        "id": "7Zy2I_90_-y4",
        "outputId": "67ac8993-a237-4775-9cf4-0477725e4b21"
      },
      "source": [
        "import random\n",
        "from math import exp\n",
        "# Q-Learning algorithm\n",
        "rewards_all_episodes=[]\n",
        "for episode in range(num_episodes):\n",
        "#   exploration_rate=0.5/(1+exp(10*((episode+1)-0.4*num_episodes))/num_episodes)\n",
        "    exploration_rate=episode/num_episodes\n",
        "    done = False\n",
        "    rewards_current_episode = 0\n",
        "    sstep=0\n",
        "    stat=env.reset()\n",
        "    for step in range(max_steps_per_episode):\n",
        "        # Exploration -exploitation trade-off\n",
        "        stat=int(stat)\n",
        "        state = perm[stat]\n",
        "        state=np.array(state).reshape(3,1).astype(np.int)\n",
        "        if random.uniform(0,1) > exploration_rate:\n",
        "            act = np.argmax(q_table[stat,:])\n",
        "        else:\n",
        "            act = env.action_space.sample()\n",
        "\n",
        "        new_stat, reward, done, info = env.step(act)\n",
        "        action = perm_actions[act]\n",
        "        # Update Q-table for Q(s,a)\n",
        "        q_table[stat, act] = (1 - learning_rate) * q_table[stat, act] + \\\n",
        "            learning_rate * (reward + discount_rate * np.max(q_table[new_stat,:]))\n",
        "            \n",
        "        stat = new_stat\n",
        "        rewards_current_episode += reward\n",
        "        \n",
        "        if done == True: \n",
        "            break\n",
        "    \n",
        "    rewards_all_episodes.append(rewards_current_episode)\n",
        "# Calculate and print the average reward per 10 episodes\n",
        "rewards_per_thousand_episodes = np.split(np.array(rewards_all_episodes), num_episodes / 100)\n",
        "count = 100\n",
        "print(\"********** Average  reward per thousand episodes **********\\n\")\n",
        "\n",
        "for r in rewards_per_thousand_episodes:\n",
        "    print(count, \": \", str(sum(r / 100)))\n",
        "    count += 100\n",
        "    \n",
        "# Print updated Q-table\n",
        "print(\"\\n\\n********** Q-table **********\\n\")\n",
        "print(q_table)"
      ],
      "execution_count": 9,
      "outputs": [
        {
          "output_type": "stream",
          "name": "stdout",
          "text": [
            "********** Average  reward per thousand episodes **********\n",
            "\n",
            "100 :  -5.539211986890378e+30\n",
            "200 :  -3.445755524528738e+30\n",
            "300 :  -3.0797211522880134e+30\n",
            "400 :  -2.317910707781936e+30\n",
            "500 :  -3.9625308486557183e+30\n",
            "600 :  -1.1938803093147599e+30\n",
            "700 :  -1.1285014204842522e+30\n",
            "800 :  -1.1886618006989584e+30\n",
            "900 :  -1.4144669694633126e+30\n",
            "1000 :  -1.268479875113574e+30\n",
            "1100 :  -2.6107460061556014e+30\n",
            "1200 :  -2.4560322558591022e+30\n",
            "1300 :  -2.087456923963561e+30\n",
            "1400 :  -2.3316797642881508e+30\n",
            "1500 :  -2.3401116510804267e+30\n",
            "1600 :  -3.282796461494883e+30\n",
            "1700 :  -3.169016199567589e+30\n",
            "1800 :  -4.1230507281124173e+30\n",
            "1900 :  -3.969751743325161e+30\n",
            "2000 :  -4.445631231089973e+30\n",
            "\n",
            "\n",
            "********** Q-table **********\n",
            "\n",
            "[[-2.37338852e+27 -3.94680536e+27 -2.51425818e+27 -2.37346037e+27]\n",
            " [ 0.00000000e+00  0.00000000e+00  0.00000000e+00  0.00000000e+00]\n",
            " [ 0.00000000e+00  0.00000000e+00  0.00000000e+00  0.00000000e+00]\n",
            " ...\n",
            " [ 0.00000000e+00  0.00000000e+00  0.00000000e+00  0.00000000e+00]\n",
            " [ 0.00000000e+00  0.00000000e+00  0.00000000e+00  0.00000000e+00]\n",
            " [ 0.00000000e+00  0.00000000e+00  0.00000000e+00  0.00000000e+00]]\n"
          ]
        }
      ]
    },
    {
      "cell_type": "code",
      "metadata": {
        "colab": {
          "base_uri": "https://localhost:8080/"
        },
        "id": "MgpjJQjeF97v",
        "outputId": "1e8e6a8f-8cbd-413e-8dae-8313a7017d5b"
      },
      "source": [
        "print(q_table)\n",
        "q_table[77,:]\n",
        "q_table_values=[]\n",
        "for q in q_table:\n",
        "  q =  [abs(ele) for ele in q]\n",
        "  if sum(q)>0:\n",
        "    q_table_values.append(q)\n",
        "print(q_table_values)\n",
        "print(len(q_table_values))"
      ],
      "execution_count": 17,
      "outputs": [
        {
          "output_type": "stream",
          "name": "stdout",
          "text": [
            "[[-2.37338852e+27 -3.94680536e+27 -2.51425818e+27 -2.37346037e+27]\n",
            " [ 0.00000000e+00  0.00000000e+00  0.00000000e+00  0.00000000e+00]\n",
            " [ 0.00000000e+00  0.00000000e+00  0.00000000e+00  0.00000000e+00]\n",
            " ...\n",
            " [ 0.00000000e+00  0.00000000e+00  0.00000000e+00  0.00000000e+00]\n",
            " [ 0.00000000e+00  0.00000000e+00  0.00000000e+00  0.00000000e+00]\n",
            " [ 0.00000000e+00  0.00000000e+00  0.00000000e+00  0.00000000e+00]]\n",
            "[[2.3733885236019992e+27, 3.9468053558279634e+27, 2.514258179496727e+27, 2.3734603661949617e+27], [3.955232842225669e+27, 9.278876028388982e+27, 4.191661552428067e+27, 9.278876028381593e+27], [2.2463244226866905e+28, 9.278876028388982e+27, 9.278876028383124e+27, 4.1904067410465345e+27], [1.6718699212585303e+28, 9.278876028388982e+27, 5.902792150877679e+27, 9.278876028388982e+27], [4.8389776690578124e+27, 1.6737290596184612e+28, 2.4610162604404423e+28, 3.9556473476710927e+27], [1.0214117742086857e+29, 1.5464793380645841e+28, 1.5464793380648304e+28, 9.69987112388988e+28], [4.064753103942009e+28, 8.413452468895447e+27, 1.5464793380648304e+28, 5.037549508990608e+27], [1.0006274803017772e+29, 1.5464793380648304e+28, 2.146561222496622e+28, 1.5464793380648304e+28], [6.591498078884318e+27, 2.9888600535931748e+28, 8.498769993685553e+28, 1.0214120183067427e+29], [3.060253062473522e+29, 1.6207729204965827e+29, 1.6203120504099877e+29, 2.8112773299228245e+29], [3.07156685305616e+30, 5.058710885192593e+29, 5.0522323247907464e+29, 3.071539597359416e+30], [1.0214121214796318e+29, 1.5464793380648304e+28, 9.720330112972238e+28, 1.5464793380639888e+28], [7.481669579409288e+28, 1.5464793380648304e+28, 1.5464793380648304e+28, 8.431285302499755e+27], [1.4203133877543351e+29, 7.476055395375055e+28, 1.0214121214795956e+29, 3.3529879358713244e+28], [1.0214121206035235e+29, 9.727220037965963e+28, 1.5464793380648304e+28, 1.5464793380648304e+28], [1.389024346510521e+29, 1.0214121214529452e+29, 4.966531744816661e+28, 2.883577809194597e+28], [1.440697277698757e+29, 6.960628564772945e+28, 5.2886780661877164e+28, 7.831167894550326e+27], [1.7023535358003266e+29, 7.591280372261432e+27, 2.57746556344138e+28, 1.621207399945931e+29], [1.702353535797745e+29, 2.57746556344138e+28, 2.598472639592741e+28, 1.6212593139546082e+29], [3.1467504453561873e+29, 1.7023535356041375e+29, 1.7023534402700678e+29, 3.051162424695688e+29], [5.109701859151953e+29, 2.7020741605552155e+29, 2.702036772477515e+29, 5.102062903616805e+29], [5.1093967429164744e+29, 2.7021000569609747e+29, 2.7021010802962952e+29, 5.102161879300949e+29], [3.0720524131411665e+30, 5.106568727556498e+29, 5.109325146743303e+29, 4.545918931326095e+30], [1.70235353580068e+29, 7.583704004305858e+28, 1.6212607215080215e+29, 2.57746556344138e+28], [1.4583041467819149e+29, 6.824024397808152e+28, 1.7809041781133884e+29, 7.775222381216826e+27], [3.1469605149999813e+29, 5.5384357581502595e+28, 1.7023535358006813e+29, 1.70235353580058e+29], [2.8372560115055302e+29, 4.295775939068897e+28, 2.7021015612084122e+29, 2.7021015496310114e+29], [1.7023535358006676e+29, 1.6212576519758646e+29, 1.575147664607991e+29, 2.57746556344138e+28], [3.146960426980441e+29, 1.7023535358006813e+29, 5.233084602922847e+28, 1.702353535800543e+29], [2.1970661898148555e+27, 9.695689715030721e+28, 9.688800001346288e+28, 2.776226312806967e+29], [5.244544496827493e+29, 2.8372558930010568e+29, 2.837256011509314e+29, 5.109778872255779e+29], [2.837256011509362e+29, 2.7021015612088133e+29, 4.295775939068897e+28, 2.7021015392042512e+29], [5.244813459069969e+29, 2.837256011508477e+29, 2.8372558930011275e+29, 5.109750370415303e+29], [4.7566043339056663e+30, 5.244864597258122e+29, 5.244907443375651e+29, 4.7555253246101904e+30], [3.0618425778347437e+29, 1.621154787541874e+29, 2.8992519974685583e+29, 1.6210195898167233e+29], [1.7023535357613304e+29, 2.57746556344138e+28, 1.6212574312549275e+29, 8.090960635334533e+28], [3.142418130211204e+29, 1.7023535357994017e+29, 3.064498180413239e+29, 1.7023535358006813e+29], [5.0623569183470535e+29, 2.7021012205475514e+29, 5.1020461847512525e+29, 2.70210154652845e+29], [1.702353535800458e+29, 1.6212596406900783e+29, 2.57746556344138e+28, 1.3314944004055153e+29], [3.146960496338539e+29, 1.7023535358006806e+29, 1.7023535358003875e+29, 5.735325872188316e+28], [2.8935018956867558e+29, 3.146118974794003e+29, 2.7910556109744924e+29, 9.55657128436702e+28], [5.244934310603111e+29, 2.837255893001128e+29, 5.1097797489407804e+29, 2.8372560115093678e+29], [3.013476985239966e+29, 1.8808724734432746e+29, 1.621242991773983e+29, 1.62125191189245e+29], [3.1469385827235703e+29, 3.0657328586859672e+29, 1.702353535764729e+29, 1.7023535358002313e+29], [5.456309681776231e+28, 2.7192117526892836e+29, 9.51344097108498e+28, 9.549391753649185e+28], [4.372177164371338e+29, 2.7464637096345562e+29, 2.8372558930011275e+29, 2.8372268395024627e+29], [7.65260236592838e+29, 5.244934192041052e+29, 5.2449343103537164e+29, 5.244934310424852e+29], [5.034890928371065e+29, 5.101427586725498e+29, 2.7021008720444308e+29, 2.702096147277296e+29], [5.244910141887265e+29, 5.1097798600963345e+29, 2.8372558930011282e+29, 2.8372560115078816e+29], [7.652606660397745e+29, 5.244934309537823e+29, 5.244934192070472e+29, 5.244934309567988e+29], [2.7351422717278804e+22, 7.63981926335906e+29, 7.640289429838276e+29, 4.766462581166139e+30], [4.300193584913718e+30, 5.048052608402458e+29, 4.668740174164785e+30, 5.020884451878584e+29], [5.108091803865263e+29, 2.7020994548722498e+29, 5.098627176745345e+29, 2.702100617042147e+29], [4.605620964817763e+30, 5.1075168409250135e+29, 4.5459189313260937e+30, 5.109775084090858e+29], [2.8372560115086015e+29, 2.702101561042609e+29, 2.702101519030737e+29, 4.295775939068897e+28], [5.244934116715383e+29, 2.8372560115093678e+29, 5.1097798602407016e+29, 2.837255893000707e+29], [4.4362112976637783e+30, 5.244809118972612e+29, 3.0720524131411665e+30, 5.2449343060921416e+29], [5.1094422188767936e+29, 5.102012747020146e+29, 2.702099690747322e+29, 2.702100772876876e+29], [5.2449336875826574e+29, 5.1094004667226156e+29, 2.8372560115093583e+29, 2.8372558930011282e+29], [7.652612274551016e+29, 5.24493430967052e+29, 5.2449343103362234e+29, 5.244934188595059e+29], [4.7874946770527895e+30, 7.652605757658845e+29, 3.696842752282502e+30, 7.652606170912577e+29], [3.07156685305616e+30, 3.071539597359416e+30, 4.7021810770917646e+29, 4.832797214225776e+29], [4.300873368010235e+30, 4.605875915800887e+30, 5.109654998150602e+29, 5.10971102185472e+29], [4.6136597485061697e+30, 4.300873368010235e+30, 5.2449294346618704e+29, 5.244920428965918e+29], [2.7307674422460463e+22, 4.613659748497711e+30, 7.581596315664008e+29, 7.589431386226033e+29], [3.984321686894706e+22, 3.234793709364452e+30, 3.881752445810817e+30, 2.1881149376971527e+22], [1.211784594884102e+31, 7.678848926908024e+30, 6.399040772423354e+30, 1.2117842761234088e+31], [6.399097557323977e+30, 8.503654587174043e+29, 6.078073785051154e+30, 6.399040772423354e+30], [7.678917068788773e+30, 7.293688542061386e+30, 8.503650407457655e+29, 7.934810557804958e+30], [1.4541483280489972e+31, 7.678917068788773e+30, 7.93488097108173e+30, 1.211784594884102e+31], [7.53806585481134e+30, 4.5035023758816646e+29, 7.575846081646482e+30, 7.58543608374384e+30], [8.175647551661961e+29, 4.503502361124589e+29, 4.50350191841229e+29, 8.503632991972704e+29], [7.999624415089079e+30, 8.516299498098446e+29, 7.598759443113306e+30, 7.678917068788772e+30], [7.598837255406001e+30, 7.515720319093732e+30, 4.503502361124589e+29, 7.585436083743842e+30], [7.999624415089079e+30, 7.596425074332461e+30, 8.516295172635848e+29, 7.934880971081732e+30], [1.5027453751187544e+31, 7.997576380164582e+30, 7.936135332429641e+30, 1.5026199389839636e+31], [7.586698537745608e+30, 4.503502379570933e+29, 7.597105985411139e+30, 7.273277728155224e+30], [4.728759792205306e+29, 7.159626426688326e+28, 4.503502379423363e+29, 4.5035000737777155e+29], [7.621378547982177e+30, 4.728759796079106e+29, 7.598837255406001e+30, 7.598856552854589e+30], [4.728759796079107e+29, 4.50350237883308e+29, 7.159626426688326e+28, 4.503502379565032e+29], [8.741556948057165e+29, 4.728759796079107e+29, 4.728759796079106e+29, 8.516299531585898e+29], [8.022658057867991e+30, 8.741556949432093e+29, 7.620894681653184e+30, 8.000034022073978e+30], [7.596425074332461e+30, 7.293688542061386e+30, 4.5035023795709325e+29, 7.573906540918974e+30], [7.62138241891281e+30, 7.598759443113306e+30, 4.728759796079107e+29, 7.598855930356248e+30], [8.020094913578069e+30, 7.316527152124793e+30, 8.741556949489377e+29, 7.936135332429641e+30], [1.4564321890553376e+31, 8.020094913578069e+30, 8.009825906006266e+30, 1.454269717856859e+31], [7.678917068788772e+30, 8.503650407457655e+29, 6.399040772423354e+30, 7.293688542061385e+30], [8.513574317130656e+29, 4.503502361124589e+29, 8.500933591805268e+29, 4.503502287339205e+29], [7.680130966867395e+30, 8.516299532978977e+29, 7.93488097108173e+30, 7.586698537745608e+30], [4.728759776710107e+29, 4.50350237883308e+29, 4.5035023794233636e+29, 7.159626426688326e+28], [8.741556913683964e+29, 4.728759796079107e+29, 8.516299531585898e+29, 4.728759796079106e+29], [8.022641627455875e+30, 8.741556949489381e+29, 8.000135604606233e+30, 7.621378547982177e+30], [8.448169136717359e+29, 8.490048913710767e+29, 4.5035023794233636e+29, 4.503502375881665e+29], [8.74155694948929e+29, 8.516299532978976e+29, 4.728759796079107e+29, 4.728759796079107e+29], [1.2754354050657822e+30, 8.741556949489377e+29, 8.741556949489381e+29, 8.741556949489381e+29], [8.421246219410187e+30, 1.2754354100809983e+30, 8.022148715092429e+30, 6.418129732376816e+30], [6.399097557323978e+30, 6.399040772423354e+30, 8.503632991972704e+29, 7.293688542061386e+30], [7.999624415089079e+30, 7.986073751540323e+30, 8.516299532702145e+29, 7.596425074332461e+30], [8.022641627455875e+30, 7.936135332429641e+30, 8.741556949488923e+29, 7.609188238209784e+30], [8.423402748531674e+30, 7.701755678852178e+30, 1.2754352796853797e+30, 8.009825906006266e+30], [1.2457958681067306e+31, 8.421246219410187e+30, 8.410463573802748e+30, 0.0], [1.4541415138609224e+31, 7.934810557804958e+30, 1.2117842761234088e+31, 7.934810557804958e+30], [7.678917068788773e+30, 7.536811493463432e+30, 6.399040772423354e+30, 8.503545914547948e+29], [1.2117902733741643e+31, 7.934880971081732e+30, 1.4541415138609224e+31, 7.93488097108173e+30], [6.07908536678334e+30, 7.515720319093732e+30, 7.597494982133384e+30, 4.50350237883308e+29], [7.997576380164582e+30, 7.294902440140007e+30, 7.996312307632042e+30, 8.516299532978977e+29], [1.5027453751187544e+31, 7.936135332429641e+30, 1.4541483280489972e+31, 7.680130966867395e+30], [7.294902440140007e+30, 7.536811493463432e+30, 6.061064773462687e+30, 4.5035023795709325e+29], [7.621362939390919e+30, 7.598852817864539e+30, 7.598837255406001e+30, 4.728759796079107e+29], [8.020094913578069e+30, 7.621362939390919e+30, 8.000115943470958e+30, 8.741556949432093e+29], [1.2136934908794481e+31, 7.701755678852178e+30, 1.5027453751187544e+31, 7.958480868147251e+30], [6.399097557323978e+30, 7.934810557804958e+30, 6.078073785051156e+30, 8.503632991972704e+29], [6.400109139056163e+30, 7.998360018850386e+30, 7.586698537745608e+30, 8.516299498098445e+29], [8.022148715092429e+30, 8.000115943470958e+30, 7.560411390528952e+30, 8.74155694948929e+29], [8.423402748531674e+30, 8.022559475395301e+30, 7.958480868147251e+30, 1.2754354100809983e+30], [1.2457958681067306e+31, 8.356550345765551e+30, 1.4564321890553376e+31, 8.356550345765551e+30], [1.211784594884102e+31, 1.211784276123409e+31, 7.678848926908024e+30, 6.399040772423354e+30], [1.5123142611709567e+31, 1.211784594884102e+31, 7.986073751540323e+30, 7.678917068788773e+30], [1.454269717856859e+31, 1.211790273374164e+31, 7.680130966867395e+30, 7.936135332429641e+30], [1.5146894766175512e+31, 1.2118914315473826e+31, 8.022148715092429e+30, 7.701755678852178e+30], [1.2457958681067303e+31, 1.2136934908794481e+31, 8.356550345765551e+30, 8.086984205579565e+30], [1.817676385748497e+31, 1.4949550417280763e+31, 1.2457958681067306e+31, 0.0]]\n",
            "122\n"
          ]
        }
      ]
    }
  ]
}